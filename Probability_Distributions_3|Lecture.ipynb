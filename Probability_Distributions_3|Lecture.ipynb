{
  "nbformat": 4,
  "nbformat_minor": 0,
  "metadata": {
    "colab": {
      "provenance": [],
      "authorship_tag": "ABX9TyPgpUJ+LjCQuTbZl4AYtMsA",
      "include_colab_link": true
    },
    "kernelspec": {
      "name": "python3",
      "display_name": "Python 3"
    },
    "language_info": {
      "name": "python"
    }
  },
  "cells": [
    {
      "cell_type": "markdown",
      "metadata": {
        "id": "view-in-github",
        "colab_type": "text"
      },
      "source": [
        "<a href=\"https://colab.research.google.com/github/SachinScaler/ProbAndStats_Sep24/blob/main/Probability_Distributions_3%7CLecture.ipynb\" target=\"_parent\"><img src=\"https://colab.research.google.com/assets/colab-badge.svg\" alt=\"Open In Colab\"/></a>"
      ]
    },
    {
      "cell_type": "code",
      "execution_count": null,
      "metadata": {
        "colab": {
          "base_uri": "https://localhost:8080/"
        },
        "id": "QSNrv4dCAnjj",
        "outputId": "0cf352e3-e143-40b1-c5df-9016ff8f0254"
      },
      "outputs": [
        {
          "output_type": "stream",
          "name": "stdout",
          "text": [
            "1.64\n"
          ]
        }
      ],
      "source": [
        "u = 65\n",
        "s = 2.5\n",
        "\n",
        "x = 69.1\n",
        "\n",
        "z = round((x - u) / s, 2)\n",
        "\n",
        "print(z)"
      ]
    },
    {
      "cell_type": "code",
      "source": [
        "from scipy.stats import norm\n",
        "\n",
        "norm.cdf(z) # 94.94 %of people have height less than 69.1 inches"
      ],
      "metadata": {
        "colab": {
          "base_uri": "https://localhost:8080/"
        },
        "id": "6DAbFB0WQhCy",
        "outputId": "8f7b3cee-bd11-46d7-e8af-bfe57b068935"
      },
      "execution_count": null,
      "outputs": [
        {
          "output_type": "execute_result",
          "data": {
            "text/plain": [
              "0.9494974165258963"
            ]
          },
          "metadata": {},
          "execution_count": 4
        }
      ]
    },
    {
      "cell_type": "markdown",
      "source": [
        "Q1: If a dataset follows a normal distribution with a mean of 50 and a standard deviation of 5, approximately what percentage of data falls between 40 and 60?\n",
        "\n",
        "p(-2sd < x < 2sd) --> 95%"
      ],
      "metadata": {
        "id": "3YymOko6QTS6"
      }
    },
    {
      "cell_type": "markdown",
      "source": [
        "Q2: produced by manufacturer have a mean diameter of 50 mm and a std dev of 2 mm.\n",
        "\n",
        "What would be the diameter corresponding to the z-score of 1.5?  \n"
      ],
      "metadata": {
        "id": "r4bn0DOwROLC"
      }
    },
    {
      "cell_type": "markdown",
      "source": [
        "Q3:Verify 68/95/99 rules using norm.cdf"
      ],
      "metadata": {
        "id": "11CSrlU-S0Nr"
      }
    },
    {
      "cell_type": "code",
      "source": [],
      "metadata": {
        "id": "JvE59jlzSztg"
      },
      "execution_count": null,
      "outputs": []
    },
    {
      "cell_type": "markdown",
      "source": [
        "resume @8:25\n"
      ],
      "metadata": {
        "id": "jv21aWncRUy6"
      }
    },
    {
      "cell_type": "code",
      "source": [
        "# q1\n",
        "def get_z(x, u, s):\n",
        "    return round((x - u) / s, 2)\n",
        "\n",
        "z2 = get_z(60, 50, 5)\n",
        "z1 = get_z(40, 50, 5)\n",
        "\n",
        "print(z1, z2)"
      ],
      "metadata": {
        "id": "qUNOpIK4Q4Fy",
        "colab": {
          "base_uri": "https://localhost:8080/"
        },
        "outputId": "020ad7ba-6a90-4bd8-9c62-659bdc2cd7aa"
      },
      "execution_count": null,
      "outputs": [
        {
          "output_type": "stream",
          "name": "stdout",
          "text": [
            "-2.0 2.0\n"
          ]
        }
      ]
    },
    {
      "cell_type": "code",
      "source": [
        "norm.cdf(z2) - norm.cdf(z1)"
      ],
      "metadata": {
        "colab": {
          "base_uri": "https://localhost:8080/"
        },
        "id": "BYRh_u8eR-kk",
        "outputId": "435e8ed4-14b3-4e74-b429-e6fe50a97691"
      },
      "execution_count": null,
      "outputs": [
        {
          "output_type": "execute_result",
          "data": {
            "text/plain": [
              "0.9544997361036416"
            ]
          },
          "metadata": {},
          "execution_count": 8
        }
      ]
    },
    {
      "cell_type": "code",
      "source": [
        "# q2\n",
        "z = 1.5\n",
        "u = 50\n",
        "s = 2\n",
        "\n",
        "x = (z * s) + u\n",
        "print(x)"
      ],
      "metadata": {
        "id": "WaN05qVVSL2N",
        "colab": {
          "base_uri": "https://localhost:8080/"
        },
        "outputId": "bc21f5fd-ff4d-49aa-ab62-e947a7f483a2"
      },
      "execution_count": 12,
      "outputs": [
        {
          "output_type": "stream",
          "name": "stdout",
          "text": [
            "53.0\n"
          ]
        }
      ]
    },
    {
      "cell_type": "code",
      "source": [
        "## Quiz\n",
        "\n",
        "z = 1.5\n",
        "norm.cdf(z)"
      ],
      "metadata": {
        "colab": {
          "base_uri": "https://localhost:8080/"
        },
        "id": "XzE7lJz-URex",
        "outputId": "752351da-fc37-443b-efdc-f5a31336047a"
      },
      "execution_count": 13,
      "outputs": [
        {
          "output_type": "execute_result",
          "data": {
            "text/plain": [
              "0.9331927987311419"
            ]
          },
          "metadata": {},
          "execution_count": 13
        }
      ]
    },
    {
      "cell_type": "markdown",
      "source": [
        "### PPF"
      ],
      "metadata": {
        "id": "AF-2sUL_WiKt"
      }
    },
    {
      "cell_type": "code",
      "source": [
        "z_score = norm.ppf(0.96)\n",
        "print(z_score)"
      ],
      "metadata": {
        "colab": {
          "base_uri": "https://localhost:8080/"
        },
        "id": "KXwfizWpVbsH",
        "outputId": "5725cc67-0afd-45c7-8941-9be70ecc6ac5"
      },
      "execution_count": 15,
      "outputs": [
        {
          "output_type": "stream",
          "name": "stdout",
          "text": [
            "1.7506860712521692\n"
          ]
        }
      ]
    },
    {
      "cell_type": "code",
      "source": [
        "u = 65\n",
        "s = 2.5\n",
        "x = (z_score * s) + u\n",
        "print(x)"
      ],
      "metadata": {
        "colab": {
          "base_uri": "https://localhost:8080/"
        },
        "id": "9n5nq0gqWlxC",
        "outputId": "f64a99be-088e-408c-c93c-6b91469e853f"
      },
      "execution_count": 17,
      "outputs": [
        {
          "output_type": "stream",
          "name": "stdout",
          "text": [
            "69.37671517813042\n"
          ]
        }
      ]
    },
    {
      "cell_type": "code",
      "source": [
        "## quiz\n",
        "\n",
        "\n",
        "norm.ppf(0.05)"
      ],
      "metadata": {
        "colab": {
          "base_uri": "https://localhost:8080/"
        },
        "id": "DYm_yFLLWzIr",
        "outputId": "ff5f63e6-b8ac-4a04-9fea-1bbf8f695e94"
      },
      "execution_count": 18,
      "outputs": [
        {
          "output_type": "execute_result",
          "data": {
            "text/plain": [
              "-1.6448536269514729"
            ]
          },
          "metadata": {},
          "execution_count": 18
        }
      ]
    },
    {
      "cell_type": "code",
      "source": [
        "x = norm.ppf(0.05) * 0.34  + 7.42\n",
        "\n",
        "print(x)"
      ],
      "metadata": {
        "colab": {
          "base_uri": "https://localhost:8080/"
        },
        "id": "mec2OvvjYrp2",
        "outputId": "e3a31c95-6c11-4f82-979c-81da3dbff64d"
      },
      "execution_count": 19,
      "outputs": [
        {
          "output_type": "stream",
          "name": "stdout",
          "text": [
            "6.860749766836499\n"
          ]
        }
      ]
    },
    {
      "cell_type": "code",
      "source": [
        "500/x"
      ],
      "metadata": {
        "colab": {
          "base_uri": "https://localhost:8080/"
        },
        "id": "WckZznaOY8yl",
        "outputId": "9c58ad5c-3d51-4aeb-d87e-52ba6ce89e18"
      },
      "execution_count": 22,
      "outputs": [
        {
          "output_type": "execute_result",
          "data": {
            "text/plain": [
              "72.87833210546471"
            ]
          },
          "metadata": {},
          "execution_count": 22
        }
      ]
    },
    {
      "cell_type": "code",
      "source": [
        "# quiz\n",
        "\n",
        "norm.cdf(1.5)"
      ],
      "metadata": {
        "colab": {
          "base_uri": "https://localhost:8080/"
        },
        "id": "QdvWPVoCZive",
        "outputId": "955ecdf6-2d13-4d0c-82fb-fbf8cf1a255b"
      },
      "execution_count": 23,
      "outputs": [
        {
          "output_type": "execute_result",
          "data": {
            "text/plain": [
              "0.9331927987311419"
            ]
          },
          "metadata": {},
          "execution_count": 23
        }
      ]
    },
    {
      "cell_type": "markdown",
      "source": [
        "### Optional: example of converting a normal dist to standard normal dist"
      ],
      "metadata": {
        "id": "vK0LPx44dz-8"
      }
    },
    {
      "cell_type": "code",
      "source": [
        "import numpy as np\n",
        "\n",
        "# alex: normal dist\n",
        "alex_scores = np.array([90, 75, 80, 95, 60])\n",
        "\n",
        "# taylor: normal dist\n",
        "taylor_scores = np.array([40, 35, 45, 30, 50])"
      ],
      "metadata": {
        "id": "MHO9Bx7Ya9Ha"
      },
      "execution_count": 27,
      "outputs": []
    },
    {
      "cell_type": "code",
      "source": [
        "alex_mu = np.mean(alex_scores)\n",
        "taylor_mu = np.mean(taylor_scores)\n",
        "\n",
        "\n",
        "alex_sigma = np.std(alex_scores)\n",
        "taylor_sigma = np.std(taylor_scores)\n",
        "\n",
        "print(alex_mu, alex_sigma)\n",
        "print(taylor_mu, taylor_sigma)"
      ],
      "metadata": {
        "colab": {
          "base_uri": "https://localhost:8080/"
        },
        "id": "lcgbXz3ReCbs",
        "outputId": "d030a4e3-9b89-42d6-9af6-e36d7c3e2152"
      },
      "execution_count": 33,
      "outputs": [
        {
          "output_type": "stream",
          "name": "stdout",
          "text": [
            "80.0 12.24744871391589\n",
            "40.0 7.0710678118654755\n"
          ]
        }
      ]
    },
    {
      "cell_type": "markdown",
      "source": [],
      "metadata": {
        "id": "Kzl6qklLemD-"
      }
    },
    {
      "cell_type": "markdown",
      "source": [
        "([90, 75, 80, 95, 60])\n",
        "\n",
        "can we calculate z -score for all of the above values?\n",
        "\n",
        "if we replace, the values with their z score, what will be the mean and sd of that new array"
      ],
      "metadata": {
        "id": "_bF_6J5jey0L"
      }
    },
    {
      "cell_type": "code",
      "source": [
        "# lets calculate z -score for all of the above values and store\n",
        "alex_standarized = (alex_scores - alex_mu) / alex_sigma\n",
        "taylor_standarized = (taylor_scores - taylor_mu) / taylor_sigma"
      ],
      "metadata": {
        "id": "mFkMHtZ3ee8Q"
      },
      "execution_count": 34,
      "outputs": []
    },
    {
      "cell_type": "code",
      "source": [
        "# z score dist\n",
        "print(alex_standarized)\n",
        "print(taylor_standarized)"
      ],
      "metadata": {
        "colab": {
          "base_uri": "https://localhost:8080/"
        },
        "id": "jLWo27gkfMNL",
        "outputId": "03d51340-c9bd-4041-8401-3b0271d53258"
      },
      "execution_count": 35,
      "outputs": [
        {
          "output_type": "stream",
          "name": "stdout",
          "text": [
            "[ 0.81649658 -0.40824829  0.          1.22474487 -1.63299316]\n",
            "[ 0.         -0.70710678  0.70710678 -1.41421356  1.41421356]\n"
          ]
        }
      ]
    },
    {
      "cell_type": "code",
      "source": [
        "alex_mu_std = np.mean(alex_standarized)\n",
        "taylor_mu_std = np.mean(taylor_standarized)\n",
        "\n",
        "\n",
        "alex_sigma_std = np.std(alex_standarized)\n",
        "taylor_sigma_std = np.std(taylor_standarized)\n",
        "\n",
        "print(alex_mu_std, alex_sigma_std)\n",
        "print(taylor_mu_std, taylor_sigma_std)"
      ],
      "metadata": {
        "colab": {
          "base_uri": "https://localhost:8080/"
        },
        "id": "F2fQuzhFfVUZ",
        "outputId": "e38ea517-988a-4d51-e959-e4cdaf32907d"
      },
      "execution_count": 36,
      "outputs": [
        {
          "output_type": "stream",
          "name": "stdout",
          "text": [
            "0.0 1.0\n",
            "0.0 0.9999999999999998\n"
          ]
        }
      ]
    },
    {
      "cell_type": "code",
      "source": [],
      "metadata": {
        "id": "EssDZ4NlfnWD"
      },
      "execution_count": null,
      "outputs": []
    }
  ]
}
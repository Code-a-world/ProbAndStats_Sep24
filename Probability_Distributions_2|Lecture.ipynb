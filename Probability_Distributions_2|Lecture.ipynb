{
  "nbformat": 4,
  "nbformat_minor": 0,
  "metadata": {
    "colab": {
      "provenance": [],
      "authorship_tag": "ABX9TyPknfzIBhFIdhmvxbZmRicW",
      "include_colab_link": true
    },
    "kernelspec": {
      "name": "python3",
      "display_name": "Python 3"
    },
    "language_info": {
      "name": "python"
    }
  },
  "cells": [
    {
      "cell_type": "markdown",
      "metadata": {
        "id": "view-in-github",
        "colab_type": "text"
      },
      "source": [
        "<a href=\"https://colab.research.google.com/github/SachinScaler/ProbAndStats_Sep24/blob/main/Probability_Distributions_2%7CLecture.ipynb\" target=\"_parent\"><img src=\"https://colab.research.google.com/assets/colab-badge.svg\" alt=\"Open In Colab\"/></a>"
      ]
    },
    {
      "cell_type": "markdown",
      "source": [],
      "metadata": {
        "id": "02geTW42BNBT"
      }
    },
    {
      "cell_type": "markdown",
      "source": [
        "<font color='red'>*** Derivation of PMF function ***</font>\n",
        "\n",
        "\n",
        "The PMF describes the probability of observing each specific value.  \n",
        "\n",
        "Here's the derivation:\n",
        "\n",
        "  \n",
        "- Since the maximum probability for any specific outcome is 1, the total probability across all possible outcomes in the range must add up to 1.  \n",
        "\n",
        "  - So, $P(X=x) = 1$\n",
        "\n",
        "- Deriving $P(X=x)$:  \n",
        "\n",
        "  - We know in discrete uniform distribution, probability is goven by **$P(X=x) = 1/n$**.\n",
        "\n",
        "  - $n$ is the all possible outcomes within the range $[a,b]$.\n",
        "\n",
        "  - So there are $b-a +1$ possible outcomes within the range.  \n",
        "\n",
        "  - Therefore, $P(X=x) = \\frac{1}{b-a+1}$ for each individual outcome $x$ in range $[a,b]$\n",
        "\n",
        "  <br>\n",
        "  \n",
        "Why the \"+ 1\" is necessary:  \n",
        "\n",
        "- If we only considered $b-a$ it would represent the number of integers between $a$ and $b$. It won't include $a$  \n",
        "\n",
        "  - For example, if a=3 and b=6, b-a would be 3 representing the integers 4, 5, and 6.\n",
        "    \n",
        "    However, in a discrete uniform distribution, we want to include the starting value $a$ and the ending value $b$ making it a total of 4 values (3, 4, 5, 6).  \n",
        "\n",
        "  - Therefore, to include $a$ in the count, we add 1: **$b-a+1$**\n",
        "\n",
        "<br>"
      ],
      "metadata": {
        "id": "GJKOwrKsA60Q"
      }
    },
    {
      "cell_type": "markdown",
      "source": [
        "<font color='red'>*** Derivation of PDF function ***</font>\n",
        "\n",
        "\n",
        "1. Area of the Rectangle:\n",
        "\n",
        "  - The probability density function $f(x)$ represents the height of the rectangle. Since the maximum probability of $X$ within the range $[a,b]$ is 1, the total area under the PDF curve must be 1.  \n",
        "\n",
        "  - The area of a rectangle is given by the product of its base and height. In this context, the base is $b-a$ and $f(x)$ is height.  \n",
        "    - Therefore, $(b-a) * f(x) = 1$.\n",
        "\n",
        "  <br>\n",
        "\n",
        "  - So, height will be:  \n",
        "\n",
        "    - $f(x) = \\frac{1}{b-a}$.\n",
        "    - This expression represents the height of the rectangle, which is also the constant probability density within the range $[a,b]$   \n",
        "\n",
        "In simple terms, the derivation shows that to make sure the total probability within the range is 1, the height of the rectangle representing the PDF($f(x)$) needs to be $\\frac{1}{b-a}$.\n",
        "\n",
        "This ensures that the area under the PDF curve (rectangle) equals 1, which aligns with the requirement for a valid probability distribution.\n"
      ],
      "metadata": {
        "id": "6XxlmvudA9BH"
      }
    },
    {
      "cell_type": "code",
      "execution_count": null,
      "metadata": {
        "id": "Pw2RkMVrvlWW"
      },
      "outputs": [],
      "source": []
    },
    {
      "cell_type": "code",
      "source": [],
      "metadata": {
        "id": "LVj_za-ZLOnQ"
      },
      "execution_count": null,
      "outputs": []
    },
    {
      "cell_type": "code",
      "source": [],
      "metadata": {
        "id": "BCN7mknMLSKG"
      },
      "execution_count": null,
      "outputs": []
    }
  ]
}
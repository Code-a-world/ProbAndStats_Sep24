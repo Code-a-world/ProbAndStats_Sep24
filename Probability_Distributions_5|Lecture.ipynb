{
  "nbformat": 4,
  "nbformat_minor": 0,
  "metadata": {
    "colab": {
      "provenance": [],
      "authorship_tag": "ABX9TyNM34K62V3fjLyfTDOt3qx7",
      "include_colab_link": true
    },
    "kernelspec": {
      "name": "python3",
      "display_name": "Python 3"
    },
    "language_info": {
      "name": "python"
    }
  },
  "cells": [
    {
      "cell_type": "markdown",
      "metadata": {
        "id": "view-in-github",
        "colab_type": "text"
      },
      "source": [
        "<a href=\"https://colab.research.google.com/github/SachinScaler/ProbAndStats_Sep24/blob/main/Probability_Distributions_5%7CLecture.ipynb\" target=\"_parent\"><img src=\"https://colab.research.google.com/assets/colab-badge.svg\" alt=\"Open In Colab\"/></a>"
      ]
    },
    {
      "cell_type": "code",
      "execution_count": 1,
      "metadata": {
        "id": "E49ju8ZfDJkq"
      },
      "outputs": [],
      "source": [
        "import numpy as np\n",
        "import pandas as pd\n",
        "import seaborn as sns\n",
        "import matplotlib.pyplot as plt\n",
        "\n",
        "from scipy.stats import poisson, expon, geom\n",
        "\n",
        "\n"
      ]
    },
    {
      "cell_type": "code",
      "source": [
        "# Q1) What is the probability of having no message in 10 seconds?\n",
        "# poisson dist\n",
        "lamda = 1/15\n",
        "rate = 10 * lamda\n",
        "\n",
        "poisson.pmf(k=0, mu = rate)"
      ],
      "metadata": {
        "colab": {
          "base_uri": "https://localhost:8080/"
        },
        "id": "2HjyPiTYJzjP",
        "outputId": "d004f9ea-758d-45d9-e183-9a875c19e58d"
      },
      "execution_count": 4,
      "outputs": [
        {
          "output_type": "execute_result",
          "data": {
            "text/plain": [
              "0.513417119032592"
            ]
          },
          "metadata": {},
          "execution_count": 4
        }
      ]
    },
    {
      "cell_type": "code",
      "source": [
        "# Q2) P(T > 10): 0 messages in first 10 secs or 1st message after 10 secs\n",
        "# exponentation dist\n",
        "1 - expon.cdf(x=10, scale=1/lamda)"
      ],
      "metadata": {
        "id": "N8orm-m9KGE-"
      },
      "execution_count": null,
      "outputs": []
    },
    {
      "cell_type": "code",
      "source": [
        "# q3) P(T<=10): first message within 10 seconds\n",
        "lamda = 1/15\n",
        "expon.cdf(x=10, scale=1/lamda)"
      ],
      "metadata": {
        "colab": {
          "base_uri": "https://localhost:8080/"
        },
        "id": "pm7OL-ipKjLb",
        "outputId": "0392de7e-ce0e-426f-89c7-efff89de5eeb"
      },
      "execution_count": 5,
      "outputs": [
        {
          "output_type": "execute_result",
          "data": {
            "text/plain": [
              "0.486582880967408"
            ]
          },
          "metadata": {},
          "execution_count": 5
        }
      ]
    },
    {
      "cell_type": "code",
      "source": [
        "# q1\n",
        "scale = 5\n",
        "p_t_4_5 = expon.cdf(x=5, scale=scale) - expon.cdf(x=4, scale=scale)\n",
        "p_t_4_5"
      ],
      "metadata": {
        "colab": {
          "base_uri": "https://localhost:8080/"
        },
        "id": "HlE-N_B_K9PE",
        "outputId": "d0345295-8e83-4645-cbe1-b2efae215d45"
      },
      "execution_count": 7,
      "outputs": [
        {
          "output_type": "execute_result",
          "data": {
            "text/plain": [
              "0.08144952294577923"
            ]
          },
          "metadata": {},
          "execution_count": 7
        }
      ]
    },
    {
      "cell_type": "code",
      "source": [
        "pt_9 = 1 - expon.cdf(x=9, scale=scale)\n",
        "pt_3 = 1 - expon.cdf(x=3, scale=scale)\n",
        "\n",
        "pt_more_9_given3 = pt_9/pt_3\n",
        "pt_more_9_given3"
      ],
      "metadata": {
        "colab": {
          "base_uri": "https://localhost:8080/"
        },
        "id": "dP_-vBv-LIzX",
        "outputId": "3e6a56ab-44fa-46a9-c493-df0595516d8b"
      },
      "execution_count": 10,
      "outputs": [
        {
          "output_type": "execute_result",
          "data": {
            "text/plain": [
              "0.30119421191220214"
            ]
          },
          "metadata": {},
          "execution_count": 10
        }
      ]
    },
    {
      "cell_type": "code",
      "source": [
        "### p_more_t_6\n",
        "pt_6 = 1 - expon.cdf(x=6, scale=scale)\n",
        "pt_6"
      ],
      "metadata": {
        "colab": {
          "base_uri": "https://localhost:8080/"
        },
        "id": "MLZJSJjHQpxK",
        "outputId": "03e92fc4-ca3e-48c3-81af-734df2d79137"
      },
      "execution_count": 11,
      "outputs": [
        {
          "output_type": "execute_result",
          "data": {
            "text/plain": [
              "0.3011942119122022"
            ]
          },
          "metadata": {},
          "execution_count": 11
        }
      ]
    },
    {
      "cell_type": "code",
      "source": [
        "expon.cdf(x=20, scale=50)"
      ],
      "metadata": {
        "colab": {
          "base_uri": "https://localhost:8080/"
        },
        "id": "cB3d2Wi9RVXE",
        "outputId": "4e49ca2c-6c85-4c5a-b7e5-047cd97f457b"
      },
      "execution_count": 12,
      "outputs": [
        {
          "output_type": "execute_result",
          "data": {
            "text/plain": [
              "0.3296799539643607"
            ]
          },
          "metadata": {},
          "execution_count": 12
        }
      ]
    },
    {
      "cell_type": "markdown",
      "source": [
        "resume-> 8:20"
      ],
      "metadata": {
        "id": "hcTm8A26T6YZ"
      }
    },
    {
      "cell_type": "code",
      "source": [
        "help(expon.cdf) # rehman"
      ],
      "metadata": {
        "colab": {
          "base_uri": "https://localhost:8080/"
        },
        "id": "9HXLIU5LTvwR",
        "outputId": "46d74f29-7711-4c51-8e4b-caf8f6527b1e"
      },
      "execution_count": 13,
      "outputs": [
        {
          "output_type": "stream",
          "name": "stdout",
          "text": [
            "Help on method cdf in module scipy.stats._distn_infrastructure:\n",
            "\n",
            "cdf(x, *args, **kwds) method of scipy.stats._continuous_distns.expon_gen instance\n",
            "    Cumulative distribution function of the given RV.\n",
            "    \n",
            "    Parameters\n",
            "    ----------\n",
            "    x : array_like\n",
            "        quantiles\n",
            "    arg1, arg2, arg3,... : array_like\n",
            "        The shape parameter(s) for the distribution (see docstring of the\n",
            "        instance object for more information)\n",
            "    loc : array_like, optional\n",
            "        location parameter (default=0)\n",
            "    scale : array_like, optional\n",
            "        scale parameter (default=1)\n",
            "    \n",
            "    Returns\n",
            "    -------\n",
            "    cdf : ndarray\n",
            "        Cumulative distribution function evaluated at `x`\n",
            "\n"
          ]
        }
      ]
    },
    {
      "cell_type": "markdown",
      "source": [
        "### BOX-COX Transformation\n"
      ],
      "metadata": {
        "id": "zTpjEw7nXrol"
      }
    },
    {
      "cell_type": "code",
      "source": [
        "from scipy.stats import boxcox\n",
        "import numpy as np\n",
        "import seaborn as sns\n",
        "\n",
        "#make this example reproducible\n",
        "np.random.seed(0)\n",
        "\n",
        "#generate dataset: Not log-normal\n",
        "data = np.random.exponential(size=1000)\n",
        "\n",
        "data"
      ],
      "metadata": {
        "colab": {
          "base_uri": "https://localhost:8080/"
        },
        "id": "_z4i6FX-UlhW",
        "outputId": "f82b331e-2985-457b-bb45-b048fe2db170"
      },
      "execution_count": 18,
      "outputs": [
        {
          "output_type": "execute_result",
          "data": {
            "text/plain": [
              "array([7.95874508e-01, 1.25593076e+00, 9.23223146e-01, 7.87201152e-01,\n",
              "       5.51048491e-01, 1.03815929e+00, 5.75519199e-01, 2.22352441e+00,\n",
              "       3.31491218e+00, 4.83602101e-01, 1.56889614e+00, 7.52674110e-01,\n",
              "       8.39432847e-01, 2.59825415e+00, 7.36853549e-02, 9.11610291e-02,\n",
              "       2.04255867e-02, 1.78748768e+00, 1.50578423e+00, 2.04031428e+00,\n",
              "       3.84522184e+00, 1.60523956e+00, 6.18929459e-01, 1.51653598e+00,\n",
              "       1.25874412e-01, 1.02143189e+00, 1.54729683e-01, 2.89442045e+00,\n",
              "       7.37827278e-01, 5.35565718e-01, 3.07280353e-01, 1.48825484e+00,\n",
              "       6.09082416e-01, 8.40334707e-01, 1.89685717e-02, 9.61380929e-01,\n",
              "       9.46996678e-01, 9.59547973e-01, 2.87791508e+00, 1.14513896e+00,\n",
              "       4.45518493e-01, 5.74532409e-01, 1.19610780e+00, 6.21152959e-02,\n",
              "       1.09891248e+00, 1.11059743e+00, 2.36206705e-01, 1.38028688e-01,\n",
              "       3.78961966e-01, 4.52102056e-01, 8.44427781e-01, 5.77324311e-01,\n",
              "       4.45449738e+00, 1.07635113e-01, 2.34301516e-01, 1.75913553e-01,\n",
              "       1.05874272e+00, 2.92080535e-01, 6.27941581e-01, 2.80277014e-01,\n",
              "       1.73127453e-01, 1.16955412e-01, 1.06807219e+00, 1.48712271e-01,\n",
              "       2.18880603e-01, 4.60013966e-01, 1.72033165e+00, 1.02144887e-01,\n",
              "       1.81981892e+00, 1.01034783e-01, 3.74903145e+00, 6.32336603e-01,\n",
              "       3.76192717e+00, 9.28478501e-01, 1.34424526e+00, 3.99763025e-02,\n",
              "       3.32410245e-01, 1.28056761e-01, 3.51176087e-01, 1.26388642e-01,\n",
              "       3.82700958e-01, 5.34884386e-01, 6.62973965e-02, 1.17918953e+00,\n",
              "       8.36097545e-01, 3.08414840e-01, 7.40758952e-01, 9.86503137e-02,\n",
              "       8.57895642e-01, 2.64925593e+00, 3.83560210e-01, 1.10084592e+00,\n",
              "       1.41330714e-01, 1.25993383e+00, 3.41654170e-01, 2.02350437e-01,\n",
              "       8.83129046e-01, 2.03124543e-02, 1.76574108e+00, 4.70653457e-03,\n",
              "       1.13263413e+00, 3.14721667e-01, 1.32875788e+00, 3.27514318e+00,\n",
              "       2.86020978e-01, 8.58392964e-01, 8.96590883e-01, 8.49220822e-01,\n",
              "       2.52419995e-01, 3.05228170e+00, 5.92624028e-01, 1.87345992e+00,\n",
              "       1.20223856e+00, 3.53020132e-01, 1.68092220e+00, 5.05018751e-01,\n",
              "       2.12949936e+00, 8.70535819e-01, 2.13483047e+00, 1.17938293e+00,\n",
              "       1.29190926e+00, 6.95799459e-01, 3.12546824e+00, 1.03279702e+00,\n",
              "       5.51395998e-01, 9.32402873e-01, 1.93797790e-02, 3.58927217e-01,\n",
              "       1.07932020e+00, 3.42599621e-01, 9.62375061e-01, 5.59961074e-01,\n",
              "       1.45573973e-01, 3.54224130e-01, 8.43888471e-01, 8.93729074e-01,\n",
              "       8.54079719e-01, 1.05900940e+00, 1.05584960e+00, 5.64610503e-01,\n",
              "       2.26863397e+00, 4.58172881e-01, 5.72461562e-01, 2.22491463e+00,\n",
              "       1.64089756e+00, 1.21701949e+00, 1.05612644e-01, 2.51928214e+00,\n",
              "       1.25260753e+00, 6.76539373e+00, 1.61870087e-01, 2.02590879e+00,\n",
              "       1.77325579e-01, 9.55966416e-01, 1.32183710e-01, 1.88392890e+00,\n",
              "       1.64671909e+00, 8.41880948e-01, 5.22870029e-01, 7.16753899e-02,\n",
              "       1.19543857e+00, 6.04299076e-01, 1.28033418e+00, 2.01277274e+00,\n",
              "       3.70996030e+00, 1.93657723e+00, 1.17832346e-02, 4.46252829e-01,\n",
              "       1.30929837e+00, 1.88294975e-01, 7.36131107e-01, 5.58700553e-02,\n",
              "       2.23139207e-01, 1.86954708e-02, 1.57841273e+00, 2.53505712e-01,\n",
              "       4.23657105e-01, 2.63221887e+00, 1.21879681e+00, 3.23568104e-02,\n",
              "       1.79957342e-01, 9.71482144e-01, 8.60923645e-01, 2.71668079e-01,\n",
              "       2.72134820e+00, 9.51829716e-01, 7.67079667e-01, 8.91378574e-01,\n",
              "       1.30978538e+00, 3.73886496e-01, 5.07865114e-01, 2.35524567e-01,\n",
              "       2.06032049e-01, 2.88907562e+00, 1.34534743e+00, 6.74244583e-01,\n",
              "       2.58012762e-01, 2.93507651e-01, 5.97809606e-02, 5.69897559e-01,\n",
              "       3.73669802e-01, 1.19185811e+00, 4.74416294e-01, 1.97967735e-01,\n",
              "       2.49883529e-02, 6.96176718e-02, 1.13753850e+00, 6.04581228e-01,\n",
              "       7.69119806e-01, 2.26984004e+00, 4.63965267e+00, 2.44491026e-01,\n",
              "       1.08790443e+00, 3.05604900e-01, 2.08672132e-02, 1.42038346e+00,\n",
              "       3.85687703e-01, 4.83638392e-01, 8.87501919e-01, 1.77814332e+00,\n",
              "       9.91504278e-01, 2.06082122e+00, 3.19574657e-01, 1.59971946e+00,\n",
              "       2.05347770e-01, 3.05318464e+00, 1.16311329e+00, 2.42718493e-01,\n",
              "       2.94448020e+00, 1.31250801e+00, 2.92951455e-01, 2.39923523e-01,\n",
              "       7.30227671e-01, 2.59977499e-02, 2.32525014e-01, 5.52838377e-01,\n",
              "       4.68676479e-01, 6.22829313e-01, 3.25216015e-01, 8.83785659e-01,\n",
              "       1.99403924e+00, 1.25032588e-01, 7.28523834e-01, 1.41642031e-01,\n",
              "       1.26181268e+00, 5.04279932e-01, 8.33378250e-01, 2.02458760e-01,\n",
              "       1.56475767e-01, 6.69540583e-01, 4.39455395e-01, 2.82063584e+00,\n",
              "       1.44955478e+00, 1.38096308e+00, 2.34049196e+00, 8.71085840e-02,\n",
              "       8.03391759e-01, 8.78215071e-01, 3.26849627e+00, 3.45519578e-01,\n",
              "       2.75527941e-01, 1.05687172e-01, 1.65660927e-02, 2.65255850e+00,\n",
              "       1.10840977e+00, 1.53782872e+00, 3.30909883e-01, 8.82880536e-01,\n",
              "       6.60920110e-02, 6.64807754e-01, 3.79402398e+00, 2.09155660e+00,\n",
              "       4.12729860e-01, 3.25892090e+00, 2.63577114e-01, 2.98220069e+00,\n",
              "       2.83664019e+00, 1.60545878e+00, 9.95463647e-01, 2.07376144e+00,\n",
              "       3.46753304e-01, 1.89010171e+00, 9.62011926e-01, 1.33252458e-02,\n",
              "       4.26535822e-01, 1.60334096e-01, 4.00794982e+00, 6.50797343e-01,\n",
              "       6.87943474e-01, 1.02018709e+00, 4.59791323e-01, 1.47225035e-01,\n",
              "       1.72663337e+00, 2.10533286e-01, 7.16045318e-01, 2.54011385e-01,\n",
              "       1.02968362e-01, 1.98189037e+00, 3.60894096e+00, 3.23996306e+00,\n",
              "       2.37038759e+00, 1.48742974e+00, 4.05182876e-01, 8.45794891e-02,\n",
              "       5.22967660e-01, 2.64270465e-01, 1.42125513e-01, 5.49073771e-02,\n",
              "       1.29314784e+00, 1.14932538e-02, 1.47220416e+00, 1.58933184e-01,\n",
              "       8.28622684e-02, 9.38745485e-02, 1.11488744e+00, 2.81524019e-01,\n",
              "       5.45657723e-01, 8.15018342e-01, 1.97005758e+00, 1.29844563e+00,\n",
              "       3.15160031e-01, 1.40967888e-01, 5.69665362e-02, 3.58961319e-01,\n",
              "       3.03971561e-01, 6.09064460e-01, 1.14974139e+00, 1.18949625e+00,\n",
              "       3.33403336e-01, 4.77917995e-01, 1.99855537e-01, 1.55374549e+00,\n",
              "       5.85279027e-02, 1.19401337e+00, 1.50821523e+00, 1.50241281e+00,\n",
              "       3.00325079e-01, 4.68106451e-01, 8.85760642e-01, 3.18583855e-01,\n",
              "       4.63390026e-01, 2.19468164e-01, 6.15919293e-01, 4.56380536e-02,\n",
              "       1.60841786e+00, 8.00788592e-02, 7.31545342e-01, 3.66451291e-01,\n",
              "       8.61667491e-01, 3.20480875e+00, 1.03724510e+00, 3.60028293e-02,\n",
              "       5.62825202e-01, 7.13384281e-01, 7.68253332e-01, 1.14379537e+00,\n",
              "       3.25170875e-01, 1.37953229e-01, 4.98692325e-01, 3.13282939e+00,\n",
              "       2.07185181e-01, 2.34323997e+00, 7.84837012e-01, 6.10482845e-01,\n",
              "       2.13742165e+00, 6.13604219e-01, 1.28796198e+00, 5.09202478e-01,\n",
              "       2.34386962e+00, 1.17126370e+00, 1.20271378e+00, 3.97080956e-01,\n",
              "       1.41378332e+00, 1.01076916e+00, 2.74463522e-01, 1.74995048e-01,\n",
              "       1.59155612e+00, 3.19825498e+00, 6.12745449e-01, 8.94001408e-01,\n",
              "       1.94997692e+00, 6.11057560e-01, 3.03394262e+00, 8.57435114e-01,\n",
              "       1.71906932e+00, 2.39517987e+00, 1.69023492e+00, 1.73656563e-01,\n",
              "       9.91279505e-01, 5.08219454e-01, 6.47656958e-02, 5.51703613e-01,\n",
              "       2.99328384e-01, 1.89072917e+00, 3.38718554e-02, 3.19376188e+00,\n",
              "       4.39076984e-01, 4.41154812e-01, 1.64632819e-02, 2.04852268e-01,\n",
              "       5.12926998e-01, 2.64918832e+00, 1.04932752e-01, 2.90591960e+00,\n",
              "       2.03629417e+00, 6.05433778e-01, 3.95565593e-01, 2.64934934e-01,\n",
              "       9.53122538e-01, 3.36339235e-02, 1.57291210e-02, 5.60008379e-01,\n",
              "       7.05019460e-02, 2.90273411e-01, 2.49950821e-01, 2.91946075e-01,\n",
              "       1.40475713e-01, 1.21092448e-02, 1.22715012e-01, 9.63592685e-01,\n",
              "       3.65956196e+00, 4.64027952e+00, 5.26030798e-01, 1.77876761e-01,\n",
              "       1.01821759e+00, 6.73943451e-01, 4.54782409e+00, 6.75341579e-02,\n",
              "       1.52893887e+00, 3.40237212e-01, 2.76305195e-01, 1.08620331e+00,\n",
              "       2.82446714e-01, 1.09619257e+00, 7.28377581e-01, 5.51802124e-01,\n",
              "       8.08979689e-01, 3.38346119e-01, 1.22613221e+00, 5.35898794e-01,\n",
              "       4.47139904e-01, 1.76408738e+00, 2.58982609e+00, 4.70992710e-02,\n",
              "       2.64782276e-01, 4.28507613e-01, 1.68721828e+00, 4.23301561e+00,\n",
              "       3.47285574e+00, 2.35333480e+00, 3.51767384e-01, 4.82972015e+00,\n",
              "       2.86909093e-01, 1.11944537e-01, 3.01496833e+00, 2.65816549e-01,\n",
              "       1.17043573e+00, 6.01283764e-02, 1.31196307e+00, 2.13470238e+00,\n",
              "       3.18054542e-01, 4.76515821e-01, 4.68878156e-01, 1.38145910e+00,\n",
              "       2.71555793e-01, 1.88564724e-01, 5.96549918e-01, 3.63078844e-01,\n",
              "       1.82752628e+00, 2.71469970e-01, 6.97937551e-01, 2.85742530e+00,\n",
              "       1.00511566e+00, 2.01958450e+00, 2.81691166e+00, 1.38935850e+00,\n",
              "       1.20255734e+00, 3.44094391e+00, 5.18512970e+00, 6.01154648e-01,\n",
              "       7.35063758e-02, 3.46433328e-01, 1.65293016e-01, 5.40402703e-01,\n",
              "       1.40745153e-01, 9.26638597e-01, 4.82575216e-01, 2.25747679e+00,\n",
              "       3.43562337e+00, 7.91609106e-01, 3.21340302e-01, 8.97053016e-01,\n",
              "       2.27071012e+00, 5.22111311e-01, 8.03136787e-01, 3.16977377e-01,\n",
              "       6.07784770e-01, 5.13685602e-01, 2.85568927e-01, 7.04949320e-01,\n",
              "       3.71615755e-01, 4.66864344e-01, 7.44378250e-01, 1.38867729e+00,\n",
              "       4.05726341e-01, 2.57911316e+00, 1.98281257e+00, 4.99156080e-02,\n",
              "       2.92550604e-01, 5.90835230e-01, 1.10515880e-01, 4.28441028e-01,\n",
              "       1.34744882e+00, 1.14104333e+00, 9.73878608e-01, 1.23969810e+00,\n",
              "       2.29317178e-01, 4.18091661e-01, 1.12776045e+00, 2.11390681e+00,\n",
              "       7.84556696e-01, 3.32260629e-01, 3.07017709e-02, 1.23903651e+00,\n",
              "       7.91534738e-03, 4.66297019e-01, 7.56166248e-01, 2.55247647e+00,\n",
              "       9.37553887e-02, 5.20778863e-01, 2.46136454e-02, 4.19479327e-01,\n",
              "       9.73472537e-01, 3.27210388e-01, 2.35405864e-01, 1.22962564e-01,\n",
              "       8.60714701e-01, 1.18832916e+00, 1.11461101e+00, 2.97320827e+00,\n",
              "       2.70687417e-03, 1.04184447e+00, 9.17271806e-01, 8.88528713e-01,\n",
              "       3.29064898e+00, 1.70156214e-02, 1.19231578e+00, 1.68028241e+00,\n",
              "       7.12956489e-01, 4.06412861e-01, 1.56465655e+00, 1.02301782e-01,\n",
              "       5.83460186e-01, 7.33869960e-01, 1.18402774e+00, 9.52844854e-02,\n",
              "       2.58459251e-01, 5.28143996e-01, 9.76292023e-01, 2.18002045e+00,\n",
              "       9.64499757e-01, 1.43248706e-01, 3.94145865e+00, 2.05405247e+00,\n",
              "       6.98603562e-01, 2.55551774e+00, 7.79535029e-01, 2.56793269e+00,\n",
              "       1.77135331e+00, 3.45100999e+00, 2.52301746e+00, 3.66990653e-02,\n",
              "       1.92095572e-01, 4.92878765e-01, 3.03953156e+00, 3.56716258e-01,\n",
              "       1.74910261e-01, 2.17423292e+00, 5.91302787e-01, 2.38461538e+00,\n",
              "       1.74627789e-01, 1.08210187e+00, 5.80289593e-01, 7.95701525e-02,\n",
              "       1.19225224e+00, 2.84219747e-01, 4.04215774e-02, 6.18161483e-02,\n",
              "       6.30234423e-02, 2.38306827e+00, 1.34662728e+00, 2.28339400e+00,\n",
              "       1.11651859e+00, 7.52769654e-01, 3.63047152e-01, 6.19590967e+00,\n",
              "       4.49713370e-01, 6.36103455e-01, 4.75209436e-01, 3.88864488e+00,\n",
              "       1.91957900e-01, 3.97479083e-01, 1.14052446e+00, 6.52935990e-02,\n",
              "       9.34580408e-01, 6.49410723e-01, 3.34075080e-01, 2.72351234e-01,\n",
              "       7.22602239e-01, 4.58751304e-01, 6.09762172e-01, 4.11700581e-01,\n",
              "       3.52315126e+00, 1.43223272e-01, 1.01815643e-01, 4.20667677e-01,\n",
              "       8.94105897e-01, 1.07639045e+00, 5.06263956e-01, 7.23347700e+00,\n",
              "       4.33699467e-01, 1.27800215e+00, 1.01495895e+00, 1.67693474e+00,\n",
              "       3.73914858e+00, 2.20540082e+00, 1.44630756e+00, 1.19815137e+00,\n",
              "       4.08717646e-01, 1.59799781e-01, 6.46836016e-02, 2.76942224e-01,\n",
              "       5.66129549e-01, 7.38136751e-01, 1.48317341e+00, 3.18788414e+00,\n",
              "       1.24793089e-01, 1.13173334e-01, 8.90853818e-01, 1.36805403e+00,\n",
              "       1.88486459e+00, 2.74625189e+00, 4.09993469e+00, 5.10495165e-01,\n",
              "       4.78576566e-01, 1.59944219e-01, 1.15497453e+00, 1.06933107e+00,\n",
              "       1.98095529e+00, 1.02318475e-01, 6.88710851e-01, 8.70079914e-01,\n",
              "       2.76487684e-01, 1.85156058e-01, 1.96312330e+00, 6.03180237e-02,\n",
              "       6.36050476e-01, 1.23110453e-01, 6.10754181e-01, 3.91014109e+00,\n",
              "       5.51137945e-01, 1.94578458e+00, 1.24787520e-01, 3.16427391e-01,\n",
              "       5.17166922e-01, 5.10512573e-01, 1.11286380e+00, 4.22689796e-01,\n",
              "       1.25094865e+00, 1.01939518e+00, 5.09428509e-01, 5.65211639e-01,\n",
              "       9.53285943e-01, 7.26160596e-02, 1.72825939e+00, 1.05964496e+00,\n",
              "       1.29587782e+00, 7.69861934e-01, 1.17070040e-01, 5.19253730e-01,\n",
              "       5.19821941e-01, 3.87197467e-01, 3.04079974e-02, 1.33656842e+00,\n",
              "       1.16291664e-01, 9.32186739e-01, 1.21475572e+00, 1.00727268e+00,\n",
              "       3.19765881e+00, 1.09031864e-01, 2.01866378e+00, 2.96247463e-02,\n",
              "       7.65539083e-01, 5.17923450e-01, 7.42723761e-01, 4.54287579e-01,\n",
              "       2.11421171e-01, 1.93081050e-02, 7.30122030e-01, 1.85008923e+00,\n",
              "       4.67153225e-01, 2.52139678e-01, 8.39600408e-02, 8.91710781e-02,\n",
              "       2.50253280e-01, 1.05376139e-01, 3.07938793e-01, 6.84388772e-02,\n",
              "       6.78558758e-02, 1.93986174e+00, 1.76880698e-01, 8.20259007e-01,\n",
              "       1.48481408e+00, 6.09559193e-01, 1.66490190e-01, 2.22638856e-01,\n",
              "       5.67368121e-01, 7.51272368e-01, 4.29922197e-01, 1.52087591e+00,\n",
              "       1.39038933e+00, 2.62020153e+00, 2.93799437e-02, 2.26040042e+00,\n",
              "       4.98516342e-01, 2.10679215e+00, 1.17371773e+00, 4.36999981e+00,\n",
              "       1.42413103e+00, 4.53413413e-01, 6.95275790e-01, 4.72228751e-01,\n",
              "       4.53991449e-01, 3.02328137e-01, 6.85120075e-01, 1.14488645e+00,\n",
              "       3.24816806e-01, 7.43135666e-01, 1.24860855e-01, 1.74169222e-01,\n",
              "       4.79372005e-02, 3.53124147e+00, 3.86782190e-03, 1.96720690e-01,\n",
              "       9.48986338e-01, 8.48714126e-02, 2.13619395e+00, 1.27161002e+00,\n",
              "       3.39293079e+00, 7.08536079e-01, 3.57251801e-01, 7.97398473e-01,\n",
              "       2.67102493e+00, 7.35556762e-01, 3.10892062e-01, 2.09881838e+00,\n",
              "       4.65085740e-01, 1.38430771e-03, 2.84600190e-01, 3.83068069e-01,\n",
              "       1.95741839e+00, 6.13418061e-01, 5.88043816e-01, 4.09627157e-01,\n",
              "       2.12593059e+00, 2.90090907e+00, 4.81469800e+00, 4.72793545e-01,\n",
              "       3.38574082e+00, 1.56963837e+00, 1.12605280e+00, 2.80891156e-01,\n",
              "       2.43929670e-01, 1.81579222e-01, 2.56079394e+00, 3.48248634e-01,\n",
              "       6.03478787e-01, 6.81135281e-01, 1.50585115e+00, 1.85940657e+00,\n",
              "       1.49745216e-01, 5.56702666e-01, 1.85058562e+00, 1.70393161e+00,\n",
              "       1.08046072e-01, 1.70057092e-01, 3.62691136e-01, 7.83497996e-02,\n",
              "       5.52799328e-01, 1.13860657e-01, 8.39833507e-01, 2.83101831e-01,\n",
              "       9.07412920e-01, 1.25025548e-01, 3.72487430e+00, 2.69653482e+00,\n",
              "       4.97246470e-01, 2.77307533e-01, 2.88213164e-01, 6.60473884e-01,\n",
              "       4.08144965e-02, 1.02083243e+00, 5.24760445e-01, 4.73861578e-01,\n",
              "       1.65739452e+00, 1.23455388e+00, 3.08639720e+00, 4.33766193e-01,\n",
              "       2.27830978e+00, 1.46953331e+00, 4.42271195e-01, 9.71976386e-01,\n",
              "       3.40478190e-01, 2.07465236e+00, 1.19264865e-01, 2.38808561e-01,\n",
              "       2.02156934e-01, 5.15881722e-01, 1.36740572e+00, 7.48464242e-01,\n",
              "       6.68798673e-01, 5.46113990e-04, 5.54084135e-01, 6.56631798e-02,\n",
              "       2.33513701e-01, 2.69405764e+00, 2.42578957e-01, 1.95430879e+00,\n",
              "       1.62401044e+00, 1.73337519e-01, 9.30673564e-01, 1.22915792e-01,\n",
              "       1.30154211e+00, 1.01462675e+00, 1.67098657e+00, 6.52743608e-01,\n",
              "       2.46349459e+00, 5.06082099e-02, 3.46567009e-01, 1.25545067e+00,\n",
              "       5.41472498e-01, 1.89891764e-01, 1.13404723e-01, 1.70012391e+00,\n",
              "       6.40826074e-01, 2.13947755e+00, 1.32159011e+00, 5.27168791e-01,\n",
              "       4.67624085e-01, 7.24923434e-01, 2.19876534e+00, 1.33666105e+00,\n",
              "       5.16628658e-03, 1.18468616e+00, 2.51959011e+00, 1.23944718e+00,\n",
              "       1.94806103e-01, 6.60715088e-01, 1.51190420e-01, 4.44718456e-01,\n",
              "       2.76648009e+00, 2.56792277e+00, 3.32451922e-01, 4.14956576e-01,\n",
              "       9.16823044e-01, 3.30218394e+00, 1.59935603e-01, 2.96947052e-01,\n",
              "       2.06796230e+00, 6.77061712e-01, 2.29224961e+00, 2.05202825e-01,\n",
              "       7.60716610e-01, 3.94925297e-01, 3.80590892e-01, 5.92174814e-01,\n",
              "       5.67532579e-01, 4.42150171e-01, 2.46476020e+00, 1.31581422e+00,\n",
              "       1.30028913e+00, 3.42368414e-01, 8.62061634e-01, 1.51040482e+00,\n",
              "       1.58762930e+00, 4.22403446e-01, 1.47347778e+00, 1.33140435e+00,\n",
              "       1.52576153e-01, 2.00950861e+00, 5.82181052e-01, 6.66330871e-01,\n",
              "       5.94876259e-01, 8.38973276e-01, 9.70665737e-01, 6.89512924e-01,\n",
              "       2.01581751e+00, 9.88148658e-01, 5.13208376e-01, 5.39039514e-01,\n",
              "       1.66515474e+00, 4.28005151e-01, 2.37565545e-01, 6.12194359e-02,\n",
              "       2.08769025e+00, 2.50772237e+00, 1.27969951e-01, 4.07177185e-01,\n",
              "       1.92822988e-01, 1.23183369e-01, 2.30125341e+00, 5.85588448e-02,\n",
              "       3.93660588e+00, 1.01424783e-01, 1.99121566e+00, 8.35877570e-01,\n",
              "       4.58735336e-01, 4.19070812e-01, 1.41619349e+00, 3.77713708e-01,\n",
              "       1.07095505e+00, 7.28413974e-01, 6.63521672e-01, 2.31427486e+00,\n",
              "       8.08883694e-01, 1.75366402e+00, 1.29307194e+00, 3.93202540e-02,\n",
              "       1.48329019e+00, 2.44456888e-01, 2.33458824e+00, 4.38726750e-02,\n",
              "       4.05073237e-01, 1.05063834e-01, 6.45479774e-01, 1.71492308e+00,\n",
              "       3.54088805e-01, 1.63619414e-01, 4.00876207e-01, 1.68136441e+00,\n",
              "       1.51269452e-01, 2.57945227e-01, 7.13370074e-02, 1.22318975e+00,\n",
              "       5.02912422e-01, 3.72281781e-01, 1.26807192e+00, 4.09439308e-01,\n",
              "       1.30111266e+00, 1.68847785e+00, 2.45469485e-01, 3.64270974e+00,\n",
              "       1.77164415e-01, 3.43675386e-01, 1.98201325e-01, 4.23892336e-01,\n",
              "       6.54043566e-01, 7.38512541e-01, 1.92145395e+00, 2.20226846e+00,\n",
              "       2.48594523e-01, 9.75229049e-01, 1.18216194e-01, 6.14280290e-01,\n",
              "       3.89100056e-01, 3.80529713e-01, 6.58908553e-01, 1.30869514e+00,\n",
              "       7.16922173e-02, 2.11339830e+00, 1.32732296e+00, 1.94190987e-01,\n",
              "       2.79952275e+00, 7.05851994e-01, 8.56103075e+00, 2.19723748e-01,\n",
              "       7.65520470e-01, 3.42839726e-01, 3.62655014e-01, 8.94199991e-01,\n",
              "       2.54745122e+00, 1.63610974e+00, 1.28714211e+00, 8.19104545e-01,\n",
              "       2.55488076e+00, 6.77985515e-01, 2.07014234e+00, 1.79565692e+00,\n",
              "       2.40589026e-01, 1.47501831e+00, 1.22458320e-02, 3.89832247e-01,\n",
              "       2.60803162e-01, 7.06968169e-01, 1.33504308e+00, 1.02782029e-01,\n",
              "       7.23445993e-01, 2.78728858e+00, 2.59608581e-01, 1.13054003e+00])"
            ]
          },
          "metadata": {},
          "execution_count": 18
        }
      ]
    },
    {
      "cell_type": "code",
      "source": [
        "sns.distplot(data)"
      ],
      "metadata": {
        "colab": {
          "base_uri": "https://localhost:8080/",
          "height": 652
        },
        "id": "Tp0OMuEHX-mv",
        "outputId": "ceddc15b-c965-44a6-bc15-f29e540a4d76"
      },
      "execution_count": 21,
      "outputs": [
        {
          "output_type": "stream",
          "name": "stderr",
          "text": [
            "<ipython-input-21-40c10e8c4001>:1: UserWarning: \n",
            "\n",
            "`distplot` is a deprecated function and will be removed in seaborn v0.14.0.\n",
            "\n",
            "Please adapt your code to use either `displot` (a figure-level function with\n",
            "similar flexibility) or `histplot` (an axes-level function for histograms).\n",
            "\n",
            "For a guide to updating your code to use the new functions, please see\n",
            "https://gist.github.com/mwaskom/de44147ed2974457ad6372750bbe5751\n",
            "\n",
            "  sns.distplot(data)\n"
          ]
        },
        {
          "output_type": "execute_result",
          "data": {
            "text/plain": [
              "<Axes: ylabel='Density'>"
            ]
          },
          "metadata": {},
          "execution_count": 21
        },
        {
          "output_type": "display_data",
          "data": {
            "text/plain": [
              "<Figure size 640x480 with 1 Axes>"
            ],
            "image/png": "[encoded data removed]"
          },
          "metadata": {}
        }
      ]
    },
    {
      "cell_type": "code",
      "source": [
        "transformed, best_lambda = boxcox(data)\n",
        "\n",
        "best_lambda"
      ],
      "metadata": {
        "colab": {
          "base_uri": "https://localhost:8080/"
        },
        "id": "dU1rt4qEXxPf",
        "outputId": "20064b4d-8604-483f-d406-5c5a13ce0c8c"
      },
      "execution_count": 22,
      "outputs": [
        {
          "output_type": "execute_result",
          "data": {
            "text/plain": [
              "0.2420131978185579"
            ]
          },
          "metadata": {},
          "execution_count": 22
        }
      ]
    },
    {
      "cell_type": "code",
      "source": [
        "sns.distplot(transformed)"
      ],
      "metadata": {
        "colab": {
          "base_uri": "https://localhost:8080/",
          "height": 652
        },
        "id": "q9JIE-gZYYrY",
        "outputId": "f4ca2c26-f92a-410e-ad22-94da5f2b1818"
      },
      "execution_count": 23,
      "outputs": [
        {
          "output_type": "stream",
          "name": "stderr",
          "text": [
            "<ipython-input-23-674699d08437>:1: UserWarning: \n",
            "\n",
            "`distplot` is a deprecated function and will be removed in seaborn v0.14.0.\n",
            "\n",
            "Please adapt your code to use either `displot` (a figure-level function with\n",
            "similar flexibility) or `histplot` (an axes-level function for histograms).\n",
            "\n",
            "For a guide to updating your code to use the new functions, please see\n",
            "https://gist.github.com/mwaskom/de44147ed2974457ad6372750bbe5751\n",
            "\n",
            "  sns.distplot(transformed)\n"
          ]
        },
        {
          "output_type": "execute_result",
          "data": {
            "text/plain": [
              "<Axes: ylabel='Density'>"
            ]
          },
          "metadata": {},
          "execution_count": 23
        },
        {
          "output_type": "display_data",
          "data": {
            "text/plain": [
              "<Figure size 640x480 with 1 Axes>"
            ],
            "image/png": "[encoded data removed]"
          },
          "metadata": {}
        }
      ]
    },
    {
      "cell_type": "code",
      "source": [
        "sns.distplot(np.log(data))"
      ],
      "metadata": {
        "colab": {
          "base_uri": "https://localhost:8080/",
          "height": 652
        },
        "id": "Kn1H60dkYjAg",
        "outputId": "d4602388-525b-4874-b268-4f4455eae3fe"
      },
      "execution_count": 24,
      "outputs": [
        {
          "output_type": "stream",
          "name": "stderr",
          "text": [
            "<ipython-input-24-f12a6280abcc>:1: UserWarning: \n",
            "\n",
            "`distplot` is a deprecated function and will be removed in seaborn v0.14.0.\n",
            "\n",
            "Please adapt your code to use either `displot` (a figure-level function with\n",
            "similar flexibility) or `histplot` (an axes-level function for histograms).\n",
            "\n",
            "For a guide to updating your code to use the new functions, please see\n",
            "https://gist.github.com/mwaskom/de44147ed2974457ad6372750bbe5751\n",
            "\n",
            "  sns.distplot(np.log(data))\n"
          ]
        },
        {
          "output_type": "execute_result",
          "data": {
            "text/plain": [
              "<Axes: ylabel='Density'>"
            ]
          },
          "metadata": {},
          "execution_count": 24
        },
        {
          "output_type": "display_data",
          "data": {
            "text/plain": [
              "<Figure size 640x480 with 1 Axes>"
            ],
            "image/png": "[encoded data removed]"
          },
          "metadata": {}
        }
      ]
    },
    {
      "cell_type": "code",
      "source": [
        "trans2, best_lambda2 = boxcox(np.log(data))\n",
        "best_lambda2"
      ],
      "metadata": {
        "colab": {
          "base_uri": "https://localhost:8080/",
          "height": 292
        },
        "id": "dzK-eNYAYq85",
        "outputId": "5d30a6e5-d841-49bb-f7ea-37a35ca29540"
      },
      "execution_count": 25,
      "outputs": [
        {
          "output_type": "error",
          "ename": "ValueError",
          "evalue": "Data must be positive.",
          "traceback": [
            "\u001b[0;31m---------------------------------------------------------------------------\u001b[0m",
            "\u001b[0;31mValueError\u001b[0m                                Traceback (most recent call last)",
            "\u001b[0;32m<ipython-input-25-b6a7795096fa>\u001b[0m in \u001b[0;36m<cell line: 1>\u001b[0;34m()\u001b[0m\n\u001b[0;32m----> 1\u001b[0;31m \u001b[0mtrans2\u001b[0m\u001b[0;34m,\u001b[0m \u001b[0mbest_lambda2\u001b[0m \u001b[0;34m=\u001b[0m \u001b[0mboxcox\u001b[0m\u001b[0;34m(\u001b[0m\u001b[0mnp\u001b[0m\u001b[0;34m.\u001b[0m\u001b[0mlog\u001b[0m\u001b[0;34m(\u001b[0m\u001b[0mdata\u001b[0m\u001b[0;34m)\u001b[0m\u001b[0;34m)\u001b[0m\u001b[0;34m\u001b[0m\u001b[0;34m\u001b[0m\u001b[0m\n\u001b[0m\u001b[1;32m      2\u001b[0m \u001b[0mbest_lambda2\u001b[0m\u001b[0;34m\u001b[0m\u001b[0;34m\u001b[0m\u001b[0m\n",
            "\u001b[0;32m/usr/local/lib/python3.10/dist-packages/scipy/stats/_morestats.py\u001b[0m in \u001b[0;36mboxcox\u001b[0;34m(x, lmbda, alpha, optimizer)\u001b[0m\n\u001b[1;32m   1115\u001b[0m \u001b[0;34m\u001b[0m\u001b[0m\n\u001b[1;32m   1116\u001b[0m     \u001b[0;32mif\u001b[0m \u001b[0mnp\u001b[0m\u001b[0;34m.\u001b[0m\u001b[0many\u001b[0m\u001b[0;34m(\u001b[0m\u001b[0mx\u001b[0m \u001b[0;34m<=\u001b[0m \u001b[0;36m0\u001b[0m\u001b[0;34m)\u001b[0m\u001b[0;34m:\u001b[0m\u001b[0;34m\u001b[0m\u001b[0;34m\u001b[0m\u001b[0m\n\u001b[0;32m-> 1117\u001b[0;31m         \u001b[0;32mraise\u001b[0m \u001b[0mValueError\u001b[0m\u001b[0;34m(\u001b[0m\u001b[0;34m\"Data must be positive.\"\u001b[0m\u001b[0;34m)\u001b[0m\u001b[0;34m\u001b[0m\u001b[0;34m\u001b[0m\u001b[0m\n\u001b[0m\u001b[1;32m   1118\u001b[0m \u001b[0;34m\u001b[0m\u001b[0m\n\u001b[1;32m   1119\u001b[0m     \u001b[0;31m# If lmbda=None, find the lmbda that maximizes the log-likelihood function.\u001b[0m\u001b[0;34m\u001b[0m\u001b[0;34m\u001b[0m\u001b[0m\n",
            "\u001b[0;31mValueError\u001b[0m: Data must be positive."
          ]
        }
      ]
    },
    {
      "cell_type": "code",
      "source": [
        "np.log(data) # get rid of negative values"
      ],
      "metadata": {
        "colab": {
          "base_uri": "https://localhost:8080/"
        },
        "id": "2_8PbiejY6Yu",
        "outputId": "64d1e79d-e93a-49ab-842c-06697668bd6e"
      },
      "execution_count": 26,
      "outputs": [
        {
          "output_type": "execute_result",
          "data": {
            "text/plain": [
              "array([-2.28313759e-01,  2.27876941e-01, -7.98843123e-02, -2.39271469e-01,\n",
              "       -5.95932468e-01,  3.74492363e-02, -5.52482691e-01,  7.99093510e-01,\n",
              "        1.19843113e+00, -7.26492816e-01,  4.50372277e-01, -2.84122934e-01,\n",
              "       -1.75028798e-01,  9.54839740e-01, -2.60795121e+00, -2.39512779e+00,\n",
              "       -3.89096691e+00,  5.80811103e-01,  4.09313847e-01,  7.13103855e-01,\n",
              "        1.34683130e+00,  4.73273003e-01, -4.79763973e-01,  4.16428771e-01,\n",
              "       -2.07247060e+00,  2.12054531e-02, -1.86607567e+00,  1.06278490e+00,\n",
              "       -3.04045522e-01, -6.24431673e-01, -1.17999475e+00,  3.97604184e-01,\n",
              "       -4.95801690e-01, -1.73955006e-01, -3.96497179e+00, -3.93845602e-02,\n",
              "       -5.44596939e-02, -4.12929672e-02,  1.05706610e+00,  1.35525991e-01,\n",
              "       -8.08516523e-01, -5.54198771e-01,  1.79072786e-01, -2.77876301e+00,\n",
              "        9.43210363e-02,  1.04898099e-01, -1.44304799e+00, -1.98029373e+00,\n",
              "       -9.70319432e-01, -7.93847336e-01, -1.69096064e-01, -5.49351106e-01,\n",
              "        1.49391423e+00, -2.22900836e+00, -1.45114646e+00, -1.73776258e+00,\n",
              "        5.70820956e-02, -1.23072571e+00, -4.65308141e-01, -1.27197683e+00,\n",
              "       -1.75372723e+00, -2.14596251e+00,  6.58553317e-02, -1.90574190e+00,\n",
              "       -1.51922889e+00, -7.76498430e-01,  5.42517093e-01, -2.28136302e+00,\n",
              "        5.98737004e-01, -2.29229044e+00,  1.32149753e+00, -4.58333427e-01,\n",
              "        1.32493137e+00, -7.42080527e-02,  2.95832714e-01, -3.21946844e+00,\n",
              "       -1.10138539e+00, -2.05528166e+00, -1.04646751e+00, -2.06839366e+00,\n",
              "       -9.60501384e-01, -6.25704656e-01, -2.71360465e+00,  1.64827361e-01,\n",
              "       -1.79009992e-01, -1.17630952e+00, -3.00080008e-01, -2.31617387e+00,\n",
              "       -1.53272816e-01,  9.74278818e-01, -9.58258668e-01,  9.60789036e-02,\n",
              "       -1.95665265e+00,  2.31059205e-01, -1.07395625e+00, -1.59775425e+00,\n",
              "       -1.24283944e-01, -3.89652107e+00,  5.68570476e-01, -5.35880340e+00,\n",
              "        1.24546012e-01, -1.15606663e+00,  2.84244581e-01,  1.18636159e+00,\n",
              "       -1.25169012e+00, -1.52693284e-01, -1.09155616e-01, -1.63436030e-01,\n",
              "       -1.37666093e+00,  1.11588941e+00, -5.23195099e-01,  6.27786947e-01,\n",
              "        1.84185286e-01, -1.04123019e+00,  5.19342574e-01, -6.83159720e-01,\n",
              "        7.55886912e-01, -1.38646374e-01,  7.58387238e-01,  1.64991360e-01,\n",
              "        2.56121173e-01, -3.62693794e-01,  1.13958411e+00,  3.22706735e-02,\n",
              "       -5.95302038e-01, -6.99902901e-02, -3.94352508e+00, -1.02463565e+00,\n",
              "        7.63313949e-02, -1.07119280e+00, -3.83510277e-02, -5.79888008e-01,\n",
              "       -1.92707091e+00, -1.03782543e+00, -1.69734937e-01, -1.12352599e-01,\n",
              "       -1.57730741e-01,  5.73339411e-02,  5.43457472e-02, -5.71619161e-01,\n",
              "        8.19177875e-01, -7.80508696e-01, -5.57809687e-01,  7.99718545e-01,\n",
              "        4.95243387e-01,  1.96404827e-01, -2.24797718e+00,  9.23973996e-01,\n",
              "        2.25227402e-01,  1.91182046e+00, -1.82096120e+00,  7.06018386e-01,\n",
              "       -1.72976781e+00, -4.50324966e-02, -2.02356258e+00,  6.33359437e-01,\n",
              "        4.98784880e-01, -1.72116666e-01, -6.48422356e-01, -2.63560783e+00,\n",
              "        1.78513121e-01, -5.03686044e-01,  2.47121125e-01,  6.99513242e-01,\n",
              "        1.31102118e+00,  6.60922102e-01, -4.44107755e+00, -8.06869606e-01,\n",
              "        2.69491396e-01, -1.66974553e+00, -3.06347042e-01, -2.88472673e+00,\n",
              "       -1.49995945e+00, -3.97947399e+00,  4.56419739e-01, -1.37236892e+00,\n",
              "       -8.58830866e-01,  9.67827169e-01,  1.97864153e-01, -3.43093076e+00,\n",
              "       -1.71503545e+00, -2.89323898e-02, -1.49749461e-01, -1.30317426e+00,\n",
              "        1.00112742e+00, -4.93691295e-02, -2.65164615e-01, -1.14986056e-01,\n",
              "        2.69863294e-01, -9.83803015e-01, -6.77539390e-01, -1.44594005e+00,\n",
              "       -1.57972354e+00,  1.06093660e+00,  2.96652290e-01, -3.94162351e-01,\n",
              "       -1.35474623e+00, -1.22585157e+00, -2.81706805e+00, -5.62298655e-01,\n",
              "       -9.84382754e-01,  1.75513530e-01, -7.45670086e-01, -1.61965121e+00,\n",
              "       -3.68934545e+00, -2.66473684e+00,  1.28866716e-01, -5.03219246e-01,\n",
              "       -2.62508527e-01,  8.19709363e-01,  1.53463951e+00, -1.40857667e+00,\n",
              "        8.42533066e-02, -1.18546219e+00, -3.86957610e+00,  3.50926880e-01,\n",
              "       -9.52727297e-01, -7.26417775e-01, -1.19344595e-01,  5.75569743e-01,\n",
              "       -8.53201589e-03,  7.23104556e-01, -1.14076436e+00,  4.69828276e-01,\n",
              "       -1.58305030e+00,  1.11618519e+00,  1.51100285e-01, -1.41585297e+00,\n",
              "        1.07993230e+00,  2.71939817e-01, -1.22774837e+00, -1.42743506e+00,\n",
              "       -3.14398916e-01, -3.64974529e+00, -1.45875747e+00, -5.92689586e-01,\n",
              "       -7.57842559e-01, -4.73482774e-01, -1.12326566e+00, -1.23540713e-01,\n",
              "        6.90162348e-01, -2.07918087e+00, -3.16734937e-01, -1.95445231e+00,\n",
              "        2.32549320e-01, -6.84623745e-01, -1.82267658e-01, -1.59721907e+00,\n",
              "       -1.85485413e+00, -4.01163499e-01, -8.22219058e-01,  1.03696234e+00,\n",
              "        3.71256463e-01,  3.22781138e-01,  8.50361148e-01, -2.44059985e+00,\n",
              "       -2.18912814e-01, -1.29863760e-01,  1.18433002e+00, -1.06270597e+00,\n",
              "       -1.28906624e+00, -2.24727176e+00, -4.10039728e+00,  9.75524645e-01,\n",
              "        1.02926346e-01,  4.30371501e-01, -1.10590920e+00, -1.24565381e-01,\n",
              "       -2.71670740e+00, -4.08257371e-01,  1.33342719e+00,  7.37908572e-01,\n",
              "       -8.84961991e-01,  1.18139613e+00, -1.33340930e+00,  1.09266151e+00,\n",
              "        1.04262032e+00,  4.73409558e-01, -4.54667353e-03,  7.29364078e-01,\n",
              "       -1.05914169e+00,  6.36630640e-01, -3.87284309e-02, -4.31809486e+00,\n",
              "       -8.52058926e-01, -1.83049554e+00,  1.38827984e+00, -4.29556986e-01,\n",
              "       -3.74048604e-01,  1.99860298e-02, -7.76982539e-01, -1.91579302e+00,\n",
              "        5.46173484e-01, -1.55811151e+00, -3.34011820e-01, -1.37037619e+00,\n",
              "       -2.27333350e+00,  6.84051119e-01,  1.28341437e+00,  1.17556193e+00,\n",
              "        8.63053483e-01,  3.97049623e-01, -9.03416768e-01, -2.47006349e+00,\n",
              "       -6.48235653e-01, -1.33078221e+00, -1.95104471e+00, -2.90210757e+00,\n",
              "        2.57079436e-01, -4.46599505e+00,  3.86760704e-01, -1.83927139e+00,\n",
              "       -2.49057547e+00, -2.36579598e+00,  1.08753445e-01, -1.26753751e+00,\n",
              "       -6.05763380e-01, -2.04544661e-01,  6.78062772e-01,  2.61167881e-01,\n",
              "       -1.15467473e+00, -1.95922316e+00, -2.86529127e+00, -1.02454064e+00,\n",
              "       -1.19082113e+00, -4.95831171e-01,  1.39537041e-01,  1.73529898e-01,\n",
              "       -1.09840230e+00, -7.38316120e-01, -1.61016049e+00,  4.40668462e-01,\n",
              "       -2.83825167e+00,  1.77320213e-01,  4.10926983e-01,  4.07072357e-01,\n",
              "       -1.20288980e+00, -7.59059550e-01, -1.21308520e-01, -1.14386956e+00,\n",
              "       -7.69186190e-01, -1.51654810e+00, -4.84639342e-01, -3.08701340e+00,\n",
              "        4.75250998e-01, -2.52474339e+00, -3.12596076e-01, -1.00388967e+00,\n",
              "       -1.48885824e-01,  1.16465242e+00,  3.65682595e-02, -3.32415775e+00,\n",
              "       -5.74786176e-01, -3.37735040e-01, -2.63635741e-01,  1.34352009e-01,\n",
              "       -1.12340447e+00, -1.98084057e+00, -6.95765956e-01,  1.14193656e+00,\n",
              "       -1.57414229e+00,  8.51534572e-01, -2.42279211e-01, -4.93505086e-01,\n",
              "        7.59600266e-01, -4.88405152e-01,  2.53061106e-01, -6.74909546e-01,\n",
              "        8.51803248e-01,  1.58083247e-01,  1.84580485e-01, -9.23615100e-01,\n",
              "        3.46269313e-01,  1.07115857e-02, -1.29293692e+00, -1.74299760e+00,\n",
              "        4.64712230e-01,  1.16260534e+00, -4.89805683e-01, -1.12047929e-01,\n",
              "        6.67817535e-01, -4.92564118e-01,  1.10986297e+00, -1.53809772e-01,\n",
              "        5.41783050e-01,  8.73458328e-01,  5.24867527e-01, -1.75067571e+00,\n",
              "       -8.75874135e-03, -6.76841929e-01, -2.73697920e+00, -5.94744310e-01,\n",
              "       -1.20621403e+00,  6.36962560e-01, -3.38517083e+00,  1.16119950e+00,\n",
              "       -8.23080519e-01, -8.18359418e-01, -4.10662272e+00, -1.58546620e+00,\n",
              "       -6.67621748e-01,  9.74253298e-01, -2.25443559e+00,  1.06674990e+00,\n",
              "        7.11131571e-01, -5.01810090e-01, -9.27438657e-01, -1.32827102e+00,\n",
              "       -4.80118027e-02, -3.39222009e+00, -4.15224144e+00, -5.79803532e-01,\n",
              "       -2.65211497e+00, -1.23693200e+00, -1.38649110e+00, -1.23118617e+00,\n",
              "       -1.96272067e+00, -4.41378609e+00, -2.09789059e+00, -3.70865994e-02,\n",
              "        1.29734346e+00,  1.53477461e+00, -6.42395517e-01, -1.72666432e+00,\n",
              "        1.80536344e-02, -3.94609072e-01,  1.51464890e+00, -2.69512177e+00,\n",
              "        4.24573946e-01, -1.07811222e+00, -1.28624924e+00,  8.26884177e-02,\n",
              "       -1.26426537e+00,  9.18428768e-02, -3.16935709e-01, -5.94565768e-01,\n",
              "       -2.11981468e-01, -1.08368589e+00,  2.03864669e-01, -6.23809953e-01,\n",
              "       -8.04883748e-01,  5.67633494e-01,  9.51590726e-01, -3.05549776e+00,\n",
              "       -1.32884739e+00, -8.47446773e-01,  5.23081183e-01,  1.44291465e+00,\n",
              "        1.24497723e+00,  8.55833388e-01, -1.04478516e+00,  1.57478853e+00,\n",
              "       -1.24858986e+00, -2.18975173e+00,  1.10358932e+00, -1.32494887e+00,\n",
              "        1.57376097e-01, -2.81127340e+00,  2.71524541e-01,  7.58327236e-01,\n",
              "       -1.14553239e+00, -7.41254353e-01, -7.57412339e-01,  3.23140259e-01,\n",
              "       -1.30358766e+00, -1.66831397e+00, -5.16592356e-01, -1.01313527e+00,\n",
              "        6.02963291e-01, -1.30390375e+00, -3.59625649e-01,  1.04992097e+00,\n",
              "        5.10261478e-03,  7.02891798e-01,  1.03564113e+00,  3.28842129e-01,\n",
              "        1.84450406e-01,  1.23574583e+00,  1.64579486e+00, -5.08903059e-01,\n",
              "       -2.61038313e+00, -1.06006489e+00, -1.80003553e+00, -6.15440671e-01,\n",
              "       -1.96080445e+00, -7.61916526e-02, -7.28618482e-01,  8.14247724e-01,\n",
              "        1.23419838e+00, -2.33687563e-01, -1.13525459e+00, -1.08640315e-01,\n",
              "        8.20092612e-01, -6.49874474e-01, -2.19230235e-01, -1.14892487e+00,\n",
              "       -4.97934457e-01, -6.66143870e-01, -1.25327185e+00, -3.49629365e-01,\n",
              "       -9.89894874e-01, -7.61716547e-01, -2.95205973e-01,  3.28351704e-01,\n",
              "       -9.02076384e-01,  9.47445603e-01,  6.84516328e-01, -2.99742154e+00,\n",
              "       -1.22911762e+00, -5.26218099e-01, -2.20259605e+00, -8.47602174e-01,\n",
              "        2.98213039e-01,  1.31943046e-01, -2.64686159e-02,  2.14867879e-01,\n",
              "       -1.47264918e+00, -8.72054586e-01,  1.20233759e-01,  7.48537803e-01,\n",
              "       -2.42636439e-01, -1.10183559e+00, -3.48343494e+00,  2.14334070e-01,\n",
              "       -4.83895170e+00, -7.62932468e-01, -2.79494023e-01,  9.37064053e-01,\n",
              "       -2.36706614e+00, -6.52429774e-01, -3.70445430e+00, -8.68741035e-01,\n",
              "       -2.68856651e-02, -1.11715193e+00, -1.44644417e+00, -2.09587533e+00,\n",
              "       -1.49992187e-01,  1.72548253e-01,  1.08505474e-01,  1.08964159e+00,\n",
              "       -5.91196075e+00,  4.09926716e-02, -8.63514431e-02, -1.18188316e-01,\n",
              "        1.19108480e+00, -4.07362345e+00,  1.75897451e-01,  5.18961878e-01,\n",
              "       -3.38334886e-01, -9.00385736e-01,  4.47666343e-01, -2.27982818e+00,\n",
              "       -5.38779063e-01, -3.09423432e-01,  1.68921965e-01, -2.35088828e+00,\n",
              "       -1.35301723e+00, -6.38386313e-01, -2.39935332e-02,  7.79334258e-01,\n",
              "       -3.61456990e-02, -1.94317296e+00,  1.37155087e+00,  7.19814655e-01,\n",
              "       -3.58671848e-01,  9.38254841e-01, -2.49057653e-01,  9.43101173e-01,\n",
              "        5.71743836e-01,  1.23866694e+00,  9.25455589e-01, -3.30500399e+00,\n",
              "       -1.64976226e+00, -7.07492048e-01,  1.11170341e+00, -1.03081461e+00,\n",
              "       -1.74348223e+00,  7.76675921e-01, -5.25427063e-01,  8.69037845e-01,\n",
              "       -1.74509849e+00,  7.89053288e-02, -5.44228001e-01, -2.53111623e+00,\n",
              "        1.75844158e-01, -1.25800758e+00, -3.20839154e+00, -2.78359065e+00,\n",
              "       -2.76424852e+00,  8.68388847e-01,  2.97603154e-01,  8.25662932e-01,\n",
              "        1.10215440e-01, -2.83996003e-01, -1.01322256e+00,  1.82388934e+00,\n",
              "       -7.99144854e-01, -4.52394064e-01, -7.43999655e-01,  1.35806074e+00,\n",
              "       -1.65047920e+00, -9.22612968e-01,  1.31488208e-01, -2.72886127e+00,\n",
              "       -6.76576119e-02, -4.31689908e-01, -1.09638952e+00, -1.30066274e+00,\n",
              "       -3.24896361e-01, -7.79247038e-01, -4.94686281e-01, -8.87458939e-01,\n",
              "        1.25935583e+00, -1.94335052e+00, -2.28459152e+00, -8.65912123e-01,\n",
              "       -1.11931057e-01,  7.36132662e-02, -6.80697094e-01,  1.97871983e+00,\n",
              "       -8.35403457e-01,  2.45298040e-01,  1.48481718e-02,  5.16967569e-01,\n",
              "        1.31885793e+00,  7.90909270e-01,  3.69013799e-01,  1.80779848e-01,\n",
              "       -8.94730712e-01, -1.83383362e+00, -2.73824756e+00, -1.28394637e+00,\n",
              "       -5.68932343e-01, -3.03626172e-01,  3.94183987e-01,  1.15935742e+00,\n",
              "       -2.08109820e+00, -2.17883470e+00, -1.15574930e-01,  3.13389312e-01,\n",
              "        6.33855984e-01,  1.01023703e+00,  1.41097105e+00, -6.72374112e-01,\n",
              "       -7.36939069e-01, -1.83293015e+00,  1.44078292e-01,  6.70332883e-02,\n",
              "        6.83579198e-01, -2.27966503e+00, -3.72933760e-01, -1.39170216e-01,\n",
              "       -1.28558900e+00, -1.68655626e+00,  6.74536727e-01, -2.80812432e+00,\n",
              "       -4.52477354e-01, -2.09467334e+00, -4.93060723e-01,  1.36357346e+00,\n",
              "       -5.95770147e-01,  6.65665278e-01, -2.08114283e+00, -1.15066148e+00,\n",
              "       -6.59389590e-01, -6.72340013e-01,  1.06936690e-01, -8.61116712e-01,\n",
              "        2.23902187e-01,  1.92094917e-02, -6.74465752e-01, -5.70555036e-01,\n",
              "       -4.78403754e-02, -2.62256917e+00,  5.47114769e-01,  5.79339058e-02,\n",
              "        2.59188322e-01, -2.61544086e-01, -2.14498289e+00, -6.55362634e-01,\n",
              "       -6.54268947e-01, -9.48820465e-01, -3.49304963e+00,  2.90105446e-01,\n",
              "       -2.15165390e+00, -7.02221204e-02,  1.94543003e-01,  7.24636166e-03,\n",
              "        1.16241892e+00, -2.21611511e+00,  7.02435796e-01, -3.51914524e+00,\n",
              "       -2.67175010e-01, -6.57927827e-01, -2.97431092e-01, -7.89024847e-01,\n",
              "       -1.55390306e+00, -3.94723032e+00, -3.14543594e-01,  6.15233868e-01,\n",
              "       -7.61097971e-01, -1.37777207e+00, -2.47741430e+00, -2.41719853e+00,\n",
              "       -1.38528176e+00, -2.25021905e+00, -1.17785424e+00, -2.68181424e+00,\n",
              "       -2.69036930e+00,  6.62616700e-01, -1.73227980e+00, -1.98135126e-01,\n",
              "        3.95289567e-01, -4.95019217e-01, -1.79281889e+00, -1.50220430e+00,\n",
              "       -5.66746943e-01, -2.85987019e-01, -8.44151023e-01,  4.19286423e-01,\n",
              "        3.29583801e-01,  9.63251233e-01, -3.52744302e+00,  8.15541976e-01,\n",
              "       -6.96118907e-01,  7.45166481e-01,  1.60176256e-01,  1.47476297e+00,\n",
              "        3.53561825e-01, -7.90950959e-01, -3.63446692e-01, -7.50291768e-01,\n",
              "       -7.89676916e-01, -1.19624231e+00, -3.78161164e-01,  1.35305460e-01,\n",
              "       -1.12449393e+00, -2.96876659e-01, -2.08055532e+00, -1.74772791e+00,\n",
              "       -3.03786345e+00,  1.26164950e+00, -5.55506375e+00, -1.62597037e+00,\n",
              "       -5.23608767e-02, -2.46661796e+00,  7.59025716e-01,  2.40283827e-01,\n",
              "        1.22169409e+00, -3.44554298e-01, -1.02931442e+00, -2.26400759e-01,\n",
              "        9.82462269e-01, -3.07127567e-01, -1.16830950e+00,  7.41374510e-01,\n",
              "       -7.65533504e-01, -6.58255511e+00, -1.25666993e+00, -9.59542581e-01,\n",
              "        6.71626459e-01, -4.88708583e-01, -5.30953817e-01, -8.92507906e-01,\n",
              "        7.54209631e-01,  1.06502416e+00,  1.57167332e+00, -7.49096467e-01,\n",
              "        1.21957274e+00,  4.50845258e-01,  1.18718422e-01, -1.26978803e+00,\n",
              "       -1.41087533e+00, -1.70606324e+00,  9.40317342e-01, -1.05483859e+00,\n",
              "       -5.05044390e-01, -3.83994342e-01,  4.09358285e-01,  6.20257389e-01,\n",
              "       -1.89881999e+00, -5.85723996e-01,  6.15502140e-01,  5.32938291e-01,\n",
              "       -2.22519755e+00, -1.77162106e+00, -1.01420367e+00, -2.54657187e+00,\n",
              "       -5.92760222e-01, -2.17277989e+00, -1.74551613e-01, -1.26194862e+00,\n",
              "       -9.71576735e-02, -2.07923718e+00,  1.31503311e+00,  9.91967547e-01,\n",
              "       -6.98669460e-01, -1.28262816e+00, -1.24405492e+00, -4.14797695e-01,\n",
              "       -3.19871795e+00,  2.06184053e-02, -6.44813417e-01, -7.46840030e-01,\n",
              "        5.05246806e-01,  2.10709670e-01,  1.12700446e+00, -8.35249615e-01,\n",
              "        8.23433845e-01,  3.84944875e-01, -8.15832021e-01, -2.84237690e-02,\n",
              "       -1.07740421e+00,  7.29793605e-01, -2.12640850e+00, -1.43209305e+00,\n",
              "       -1.59871098e+00, -6.61877761e-01,  3.12915310e-01, -2.89731850e-01,\n",
              "       -4.02272201e-01, -7.51268283e+00, -5.90438735e-01, -2.72321694e+00,\n",
              "       -1.45451453e+00,  9.91048473e-01, -1.41642803e+00,  6.70036571e-01,\n",
              "        4.84898668e-01, -1.75251461e+00, -7.18466928e-02, -2.09625578e+00,\n",
              "        2.63549804e-01,  1.45208086e-02,  5.13414212e-01, -4.26570863e-01,\n",
              "        9.01580906e-01, -2.98364146e+00, -1.05967909e+00,  2.27494606e-01,\n",
              "       -6.13463003e-01, -1.66130103e+00, -2.17679224e+00,  5.30701139e-01,\n",
              "       -4.44997195e-01,  7.60561663e-01,  2.78835638e-01, -6.40234494e-01,\n",
              "       -7.60090542e-01, -3.21689238e-01,  7.87895995e-01,  2.90174748e-01,\n",
              "       -5.26560111e+00,  1.69477899e-01,  9.24096234e-01,  2.14665455e-01,\n",
              "       -1.63575056e+00, -4.14432564e-01, -1.88921518e+00, -8.10313880e-01,\n",
              "        1.01757579e+00,  9.43097312e-01, -1.10126002e+00, -8.79581400e-01,\n",
              "       -8.68407982e-02,  1.19458405e+00, -1.83298402e+00, -1.21420143e+00,\n",
              "        7.26563726e-01, -3.89992856e-01,  8.29533698e-01, -1.58375640e+00,\n",
              "       -2.73494382e-01, -9.29058655e-01, -9.66030254e-01, -5.23953394e-01,\n",
              "       -5.66457123e-01, -8.16105701e-01,  9.02094522e-01,  2.74455654e-01,\n",
              "        2.62586644e-01, -1.07186789e+00, -1.48428510e-01,  4.12377709e-01,\n",
              "        4.62241898e-01, -8.61794388e-01,  3.87625444e-01,  2.86234288e-01,\n",
              "       -1.88009144e+00,  6.97890220e-01, -5.40973794e-01, -4.05968928e-01,\n",
              "       -5.19401863e-01, -1.75576425e-01, -2.97731165e-02, -3.71769838e-01,\n",
              "        7.01024827e-01, -1.19221292e-02, -6.67073326e-01, -6.17966402e-01,\n",
              "        5.09918056e-01, -8.48620048e-01, -1.43731172e+00, -2.79329056e+00,\n",
              "        7.36058312e-01,  9.19374921e-01, -2.05595980e+00, -8.98506844e-01,\n",
              "       -1.64598267e+00, -2.09408123e+00,  8.33453935e-01, -2.83772314e+00,\n",
              "        1.37031890e+00, -2.28843781e+00,  6.88745338e-01, -1.79273123e-01,\n",
              "       -7.79281845e-01, -8.69715370e-01,  3.47972632e-01, -9.73618757e-01,\n",
              "        6.85508208e-02, -3.16885746e-01, -4.10193762e-01,  8.39096403e-01,\n",
              "       -2.12100138e-01,  5.61707326e-01,  2.57020735e-01, -3.23601552e+00,\n",
              "        3.94262723e-01, -1.40871631e+00,  8.47835534e-01, -3.12646359e+00,\n",
              "       -9.03687397e-01, -2.25318717e+00, -4.37761403e-01,  5.39368228e-01,\n",
              "       -1.03820754e+00, -1.81021219e+00, -9.14102611e-01,  5.19605615e-01,\n",
              "       -1.88869258e+00, -1.35500802e+00, -2.64034005e+00,  2.01461998e-01,\n",
              "       -6.87339236e-01, -9.88104235e-01,  2.37497574e-01, -8.92966596e-01,\n",
              "        2.63219790e-01,  5.23827441e-01, -1.40458264e+00,  1.29272784e+00,\n",
              "       -1.73067708e+00, -1.06805771e+00, -1.61847197e+00, -8.58275781e-01,\n",
              "       -4.24581315e-01, -3.03117195e-01,  6.53082166e-01,  7.89487945e-01,\n",
              "       -1.39193213e+00, -2.50829132e-02, -2.13524018e+00, -4.87303956e-01,\n",
              "       -9.43918755e-01, -9.66191014e-01, -4.17170520e-01,  2.69030562e-01,\n",
              "       -2.63537308e+00,  7.48297222e-01,  2.83164104e-01, -1.63891313e+00,\n",
              "        1.02944896e+00, -3.48349704e-01,  2.14722060e+00, -1.51538421e+00,\n",
              "       -2.67199323e-01, -1.07049221e+00, -1.01430327e+00, -1.11825825e-01,\n",
              "        9.35093336e-01,  4.92321316e-01,  2.52424343e-01, -1.99543554e-01,\n",
              "        9.38005555e-01, -3.88629355e-01,  7.27617368e-01,  5.85370926e-01,\n",
              "       -1.42466509e+00,  3.88670407e-01, -4.40256964e+00, -9.42038769e-01,\n",
              "       -1.34398933e+00, -3.46769637e-01,  2.88963562e-01, -2.27514476e+00,\n",
              "       -3.23729383e-01,  1.02506929e+00, -1.34858024e+00,  1.22695421e-01])"
            ]
          },
          "metadata": {},
          "execution_count": 26
        }
      ]
    },
    {
      "cell_type": "markdown",
      "source": [
        "### Geometric dist"
      ],
      "metadata": {
        "id": "jsy-_J26dS6D"
      }
    },
    {
      "cell_type": "code",
      "source": [
        "###\n",
        "\n",
        "p = 0.1\n",
        "\n",
        "# num_interviews\n",
        "x_vals = np.arange(1,20)\n",
        "x_vals"
      ],
      "metadata": {
        "colab": {
          "base_uri": "https://localhost:8080/"
        },
        "id": "n1m-bgtMY-La",
        "outputId": "1aa7f531-0cc4-46f3-f980-bcfd6239b5ea"
      },
      "execution_count": 27,
      "outputs": [
        {
          "output_type": "execute_result",
          "data": {
            "text/plain": [
              "array([ 1,  2,  3,  4,  5,  6,  7,  8,  9, 10, 11, 12, 13, 14, 15, 16, 17,\n",
              "       18, 19])"
            ]
          },
          "metadata": {},
          "execution_count": 27
        }
      ]
    },
    {
      "cell_type": "code",
      "source": [
        "prob = geom.pmf(3, p)\n",
        "prob"
      ],
      "metadata": {
        "colab": {
          "base_uri": "https://localhost:8080/"
        },
        "id": "ZlyJ66F9dSCx",
        "outputId": "a3c3b3ab-d34c-4e31-b85c-dad45eb69989"
      },
      "execution_count": 31,
      "outputs": [
        {
          "output_type": "execute_result",
          "data": {
            "text/plain": [
              "0.08100000000000002"
            ]
          },
          "metadata": {},
          "execution_count": 31
        }
      ]
    },
    {
      "cell_type": "code",
      "source": [
        "all_probs = geom.pmf(x_vals, p)\n",
        "all_probs"
      ],
      "metadata": {
        "colab": {
          "base_uri": "https://localhost:8080/"
        },
        "id": "OZm816Q5dc0E",
        "outputId": "cc12d49e-6c24-4997-dd09-6b1ce76b1d42"
      },
      "execution_count": 32,
      "outputs": [
        {
          "output_type": "execute_result",
          "data": {
            "text/plain": [
              "array([0.1       , 0.09      , 0.081     , 0.0729    , 0.06561   ,\n",
              "       0.059049  , 0.0531441 , 0.04782969, 0.04304672, 0.03874205,\n",
              "       0.03486784, 0.03138106, 0.02824295, 0.02541866, 0.02287679,\n",
              "       0.02058911, 0.0185302 , 0.01667718, 0.01500946])"
            ]
          },
          "metadata": {},
          "execution_count": 32
        }
      ]
    },
    {
      "cell_type": "code",
      "source": [
        "sns.barplot(y = all_probs, x = x_vals)"
      ],
      "metadata": {
        "colab": {
          "base_uri": "https://localhost:8080/",
          "height": 467
        },
        "id": "rU49hhCmds4V",
        "outputId": "9c404eda-6e67-4425-8197-c682159eba18"
      },
      "execution_count": 38,
      "outputs": [
        {
          "output_type": "execute_result",
          "data": {
            "text/plain": [
              "<Axes: >"
            ]
          },
          "metadata": {},
          "execution_count": 38
        },
        {
          "output_type": "display_data",
          "data": {
            "text/plain": [
              "<Figure size 640x480 with 1 Axes>"
            ],
            "image/png": "[encoded data removed]"
          },
          "metadata": {}
        }
      ]
    },
    {
      "cell_type": "code",
      "source": [
        "# quiz 1\n",
        "geom.pmf(k=2, p=0.3)"
      ],
      "metadata": {
        "colab": {
          "base_uri": "https://localhost:8080/"
        },
        "id": "HRra8b7nd3ar",
        "outputId": "8d1118f3-8587-4ceb-9131-4204abd75ddb"
      },
      "execution_count": 40,
      "outputs": [
        {
          "output_type": "execute_result",
          "data": {
            "text/plain": [
              "0.21"
            ]
          },
          "metadata": {},
          "execution_count": 40
        }
      ]
    },
    {
      "cell_type": "code",
      "source": [
        "# quiz 2\n",
        "geom.cdf(k=2, p=0.05)"
      ],
      "metadata": {
        "colab": {
          "base_uri": "https://localhost:8080/"
        },
        "id": "cpikKVJGfpcY",
        "outputId": "2a2b1b0c-f21a-4e5e-d68a-1e515ae40815"
      },
      "execution_count": 43,
      "outputs": [
        {
          "output_type": "execute_result",
          "data": {
            "text/plain": [
              "0.0975"
            ]
          },
          "metadata": {},
          "execution_count": 43
        }
      ]
    },
    {
      "cell_type": "markdown",
      "source": [
        "### Bootstrap"
      ],
      "metadata": {
        "id": "90cEQ1-ejmy6"
      }
    },
    {
      "cell_type": "code",
      "source": [
        "salary = [35, 36, 33, 37, 34]\n",
        "np.mean(salary)"
      ],
      "metadata": {
        "colab": {
          "base_uri": "https://localhost:8080/"
        },
        "id": "rk_DFeQMgW7t",
        "outputId": "975162fb-62c3-4b7b-ae39-fdc6e16151a2"
      },
      "execution_count": 44,
      "outputs": [
        {
          "output_type": "execute_result",
          "data": {
            "text/plain": [
              "35.0"
            ]
          },
          "metadata": {},
          "execution_count": 44
        }
      ]
    },
    {
      "cell_type": "markdown",
      "source": [
        "### Bootstrap sampling"
      ],
      "metadata": {
        "id": "Lv3zRsXAj8GM"
      }
    },
    {
      "cell_type": "code",
      "source": [
        "bs_samples = np.random.choice(salary, size=5)\n",
        "bs_samples"
      ],
      "metadata": {
        "colab": {
          "base_uri": "https://localhost:8080/"
        },
        "id": "dPnfCs-Kj7dd",
        "outputId": "0e8894cc-bea5-4f2e-dc42-c0e6bb7a0634"
      },
      "execution_count": 48,
      "outputs": [
        {
          "output_type": "execute_result",
          "data": {
            "text/plain": [
              "array([37, 37, 37, 35, 35])"
            ]
          },
          "metadata": {},
          "execution_count": 48
        }
      ]
    },
    {
      "cell_type": "code",
      "source": [
        "np.mean(bs_samples)"
      ],
      "metadata": {
        "colab": {
          "base_uri": "https://localhost:8080/"
        },
        "id": "qqCUGu2Sj_-f",
        "outputId": "3c50c932-de30-4737-df78-f8b96c805dc0"
      },
      "execution_count": 49,
      "outputs": [
        {
          "output_type": "execute_result",
          "data": {
            "text/plain": [
              "36.2"
            ]
          },
          "metadata": {},
          "execution_count": 49
        }
      ]
    },
    {
      "cell_type": "code",
      "source": [
        "bs_means = []\n",
        "for reps in range(1000):\n",
        "    bs_samples = np.random.choice(salary, size=5)\n",
        "    bs_means.append(np.mean(bs_samples))\n",
        "\n",
        "\n",
        "len(bs_means)"
      ],
      "metadata": {
        "colab": {
          "base_uri": "https://localhost:8080/"
        },
        "id": "h3YHNPEokOlB",
        "outputId": "7140fe10-032e-49b1-a2a7-af293b02855c"
      },
      "execution_count": 50,
      "outputs": [
        {
          "output_type": "execute_result",
          "data": {
            "text/plain": [
              "1000"
            ]
          },
          "metadata": {},
          "execution_count": 50
        }
      ]
    },
    {
      "cell_type": "code",
      "source": [
        "# step2: direcly calculate percentile\n",
        "np.percentile(bs_means, [2.5, 97.5])"
      ],
      "metadata": {
        "colab": {
          "base_uri": "https://localhost:8080/"
        },
        "id": "Rv4Z69T8kcab",
        "outputId": "0a37e7c2-cfac-41ec-a544-dc89795db2dd"
      },
      "execution_count": 51,
      "outputs": [
        {
          "output_type": "execute_result",
          "data": {
            "text/plain": [
              "array([33.8, 36.2])"
            ]
          },
          "metadata": {},
          "execution_count": 51
        }
      ]
    },
    {
      "cell_type": "code",
      "source": [],
      "metadata": {
        "id": "u8XAR3sbkwFK"
      },
      "execution_count": null,
      "outputs": []
    }
  ]
}